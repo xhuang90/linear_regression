{
 "cells": [
  {
   "cell_type": "code",
   "execution_count": 2,
   "metadata": {
    "collapsed": true
   },
   "outputs": [],
   "source": [
    "import pandas as pd\n",
    "import numpy as np\n",
    "import seaborn as sns\n",
    "import matplotlib.pyplot as plt\n",
    "from scipy import stats\n",
    "import warnings\n",
    "warnings.filterwarnings('ignore')\n",
    "\n",
    "%matplotlib inline"
   ]
  },
  {
   "cell_type": "markdown",
   "source": [
    "# read data\n",
    "\n"
   ],
   "metadata": {
    "collapsed": false,
    "pycharm": {
     "name": "#%% md\n"
    }
   }
  },
  {
   "cell_type": "code",
   "execution_count": 6,
   "outputs": [],
   "source": [
    "# read data\n",
    "df_train_data = pd.read_csv('data/zhengqi_train.txt', sep='\\t', encoding='utf-8')\n",
    "df_test_data = pd.read_csv('data/zhengqi_test.txt', sep='\\t', encoding='utf-8')"
   ],
   "metadata": {
    "collapsed": false,
    "pycharm": {
     "name": "#%%\n"
    }
   }
  },
  {
   "cell_type": "code",
   "source": [
    "df_train_data.info()\n"
   ],
   "metadata": {
    "collapsed": false,
    "pycharm": {
     "name": "#%%\n"
    }
   },
   "execution_count": 7,
   "outputs": [
    {
     "name": "stdout",
     "output_type": "stream",
     "text": [
      "<class 'pandas.core.frame.DataFrame'>\n",
      "RangeIndex: 2888 entries, 0 to 2887\n",
      "Data columns (total 39 columns):\n",
      "V0        2888 non-null float64\n",
      "V1        2888 non-null float64\n",
      "V2        2888 non-null float64\n",
      "V3        2888 non-null float64\n",
      "V4        2888 non-null float64\n",
      "V5        2888 non-null float64\n",
      "V6        2888 non-null float64\n",
      "V7        2888 non-null float64\n",
      "V8        2888 non-null float64\n",
      "V9        2888 non-null float64\n",
      "V10       2888 non-null float64\n",
      "V11       2888 non-null float64\n",
      "V12       2888 non-null float64\n",
      "V13       2888 non-null float64\n",
      "V14       2888 non-null float64\n",
      "V15       2888 non-null float64\n",
      "V16       2888 non-null float64\n",
      "V17       2888 non-null float64\n",
      "V18       2888 non-null float64\n",
      "V19       2888 non-null float64\n",
      "V20       2888 non-null float64\n",
      "V21       2888 non-null float64\n",
      "V22       2888 non-null float64\n",
      "V23       2888 non-null float64\n",
      "V24       2888 non-null float64\n",
      "V25       2888 non-null float64\n",
      "V26       2888 non-null float64\n",
      "V27       2888 non-null float64\n",
      "V28       2888 non-null float64\n",
      "V29       2888 non-null float64\n",
      "V30       2888 non-null float64\n",
      "V31       2888 non-null float64\n",
      "V32       2888 non-null float64\n",
      "V33       2888 non-null float64\n",
      "V34       2888 non-null float64\n",
      "V35       2888 non-null float64\n",
      "V36       2888 non-null float64\n",
      "V37       2888 non-null float64\n",
      "target    2888 non-null float64\n",
      "dtypes: float64(39)\n",
      "memory usage: 880.1 KB\n"
     ]
    }
   ]
  },
  {
   "cell_type": "code",
   "execution_count": 8,
   "outputs": [
    {
     "name": "stdout",
     "output_type": "stream",
     "text": [
      "<class 'pandas.core.frame.DataFrame'>\n",
      "RangeIndex: 1925 entries, 0 to 1924\n",
      "Data columns (total 38 columns):\n",
      "V0     1925 non-null float64\n",
      "V1     1925 non-null float64\n",
      "V2     1925 non-null float64\n",
      "V3     1925 non-null float64\n",
      "V4     1925 non-null float64\n",
      "V5     1925 non-null float64\n",
      "V6     1925 non-null float64\n",
      "V7     1925 non-null float64\n",
      "V8     1925 non-null float64\n",
      "V9     1925 non-null float64\n",
      "V10    1925 non-null float64\n",
      "V11    1925 non-null float64\n",
      "V12    1925 non-null float64\n",
      "V13    1925 non-null float64\n",
      "V14    1925 non-null float64\n",
      "V15    1925 non-null float64\n",
      "V16    1925 non-null float64\n",
      "V17    1925 non-null float64\n",
      "V18    1925 non-null float64\n",
      "V19    1925 non-null float64\n",
      "V20    1925 non-null float64\n",
      "V21    1925 non-null float64\n",
      "V22    1925 non-null float64\n",
      "V23    1925 non-null float64\n",
      "V24    1925 non-null float64\n",
      "V25    1925 non-null float64\n",
      "V26    1925 non-null float64\n",
      "V27    1925 non-null float64\n",
      "V28    1925 non-null float64\n",
      "V29    1925 non-null float64\n",
      "V30    1925 non-null float64\n",
      "V31    1925 non-null float64\n",
      "V32    1925 non-null float64\n",
      "V33    1925 non-null float64\n",
      "V34    1925 non-null float64\n",
      "V35    1925 non-null float64\n",
      "V36    1925 non-null float64\n",
      "V37    1925 non-null float64\n",
      "dtypes: float64(38)\n",
      "memory usage: 571.6 KB\n"
     ]
    }
   ],
   "source": [
    "df_test_data.info()\n",
    "\n"
   ],
   "metadata": {
    "collapsed": false,
    "pycharm": {
     "name": "#%%\n"
    }
   }
  },
  {
   "cell_type": "code",
   "execution_count": 11,
   "outputs": [
    {
     "data": {
      "text/plain": "<matplotlib.axes._subplots.AxesSubplot at 0x7f8ce97a8a90>"
     },
     "execution_count": 11,
     "metadata": {},
     "output_type": "execute_result"
    },
    {
     "data": {
      "text/plain": "<Figure size 288x432 with 1 Axes>",
      "image/png": "[encoded data removed]"
     },
     "metadata": {
      "needs_background": "light"
     },
     "output_type": "display_data"
    }
   ],
   "source": [
    "fig = plt.figure(figsize=(4, 6))\n",
    "sns.boxplot(df_train_data['V0'], orient='y', width=0.5)\n",
    "\n",
    "# there are outliers in col V0\n",
    "# many of them are under 4th quarter point"
   ],
   "metadata": {
    "collapsed": false,
    "pycharm": {
     "name": "#%%\n"
    }
   }
  },
  {
   "cell_type": "code",
   "execution_count": 19,
   "outputs": [
    {
     "data": {
      "text/plain": "<Figure size 432x288 with 38 Axes>",
      "image/png": "[encoded data removed]"
     },
     "metadata": {
      "needs_background": "light"
     },
     "output_type": "display_data"
    }
   ],
   "source": [
    "# get column name\n",
    "columns = df_train_data.columns.to_list()[:39]\n",
    "fig = plt.Figure(figsize=(80, 60), dpi=75)\n",
    "for i in range(38):\n",
    "    plt.subplot(7, 8, i+1)\n",
    "    sns.boxplot(df_train_data[columns[i]], orient='v', width=0.5)\n",
    "    plt.ylabel(columns[i], fontsize=3)\n",
    "\n",
    "plt.show()\n",
    "\n",
    "# we NEED to do data cleaning with outliers"
   ],
   "metadata": {
    "collapsed": false,
    "pycharm": {
     "name": "#%%\n"
    }
   }
  },
  {
   "cell_type": "code",
   "execution_count": null,
   "outputs": [],
   "source": [
    "\n",
    "\n"
   ],
   "metadata": {
    "collapsed": false,
    "pycharm": {
     "name": "#%%\n"
    }
   }
  }
 ],
 "metadata": {
  "kernelspec": {
   "display_name": "Python 3",
   "language": "python",
   "name": "python3"
  },
  "language_info": {
   "codemirror_mode": {
    "name": "ipython",
    "version": 2
   },
   "file_extension": ".py",
   "mimetype": "text/x-python",
   "name": "python",
   "nbconvert_exporter": "python",
   "pygments_lexer": "ipython2",
   "version": "2.7.6"
  }
 },
 "nbformat": 4,
 "nbformat_minor": 0
}